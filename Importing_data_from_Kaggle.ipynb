{
  "nbformat": 4,
  "nbformat_minor": 0,
  "metadata": {
    "colab": {
      "name": "Importing data from Kaggle.ipynb",
      "provenance": [],
      "collapsed_sections": [],
      "authorship_tag": "ABX9TyMP5qVX10Yl9PzJ5wzv1R3d",
      "include_colab_link": true
    },
    "kernelspec": {
      "name": "python3",
      "display_name": "Python 3"
    },
    "language_info": {
      "name": "python"
    }
  },
  "cells": [
    {
      "cell_type": "markdown",
      "metadata": {
        "id": "view-in-github",
        "colab_type": "text"
      },
      "source": [
        "<a href=\"https://colab.research.google.com/github/daniyalarif/Kaggle-data-in-Colab/blob/main/Importing_data_from_Kaggle.ipynb\" target=\"_parent\"><img src=\"https://colab.research.google.com/assets/colab-badge.svg\" alt=\"Open In Colab\"/></a>"
      ]
    },
    {
      "cell_type": "markdown",
      "metadata": {
        "id": "sBMYNdkmGLjL"
      },
      "source": [
        "# Importing data directly from Kaggle\n",
        "\n",
        "\n",
        "\n"
      ]
    },
    {
      "cell_type": "markdown",
      "metadata": {
        "id": "-epxLuyjL8Ft"
      },
      "source": [
        "### Step 1\n",
        "\n",
        "1) Log into your kaggle profile and go into accounts\n",
        "\n",
        "2) Create new API token and save in your PC\n",
        "\n",
        "3) Upload that API json file into your colab \n",
        "\n",
        "4) Do the later steps and you would be able to access any dataset from Kaggle in colab "
      ]
    },
    {
      "cell_type": "markdown",
      "metadata": {
        "id": "z42P6izIMvqQ"
      },
      "source": [
        "### Step 2\n",
        "\n",
        "Import os library from Python\n",
        "\n"
      ]
    },
    {
      "cell_type": "code",
      "metadata": {
        "id": "nTcFcMMXGKA2"
      },
      "source": [
        "import os\n",
        "os.environ['KAGGLE_CONFIG_DIR'] = '/content'"
      ],
      "execution_count": null,
      "outputs": []
    },
    {
      "cell_type": "markdown",
      "metadata": {
        "id": "9C4HPjIUM95e"
      },
      "source": [
        "### Step 3\n",
        "\n",
        "Copy API address of the dataset after !kaggle (from Kaggle website)"
      ]
    },
    {
      "cell_type": "code",
      "metadata": {
        "colab": {
          "base_uri": "https://localhost:8080/"
        },
        "id": "Oi8H71nfEfNx",
        "outputId": "abcc7ff9-46c7-462b-9845-dcf4f5d5c19d"
      },
      "source": [
        "!kaggle datasets download -d aishu200023/stackindex"
      ],
      "execution_count": null,
      "outputs": [
        {
          "output_type": "stream",
          "text": [
            "Warning: Your Kaggle API key is readable by other users on this system! To fix this, you can run 'chmod 600 /content/kaggle.json'\n",
            "Downloading stackindex.zip to /content\n",
            "  0% 0.00/11.7k [00:00<?, ?B/s]\n",
            "100% 11.7k/11.7k [00:00<00:00, 21.1MB/s]\n"
          ],
          "name": "stdout"
        }
      ]
    },
    {
      "cell_type": "markdown",
      "metadata": {
        "id": "IxoiX3F9NROJ"
      },
      "source": [
        "### Step 4\n",
        "\n",
        "If the files are in ZIP format unzip and remove the zip"
      ]
    },
    {
      "cell_type": "code",
      "metadata": {
        "colab": {
          "base_uri": "https://localhost:8080/"
        },
        "id": "g0KSv-lDGwq-",
        "outputId": "a08dc272-f1e2-4c24-d873-78819fafcae5"
      },
      "source": [
        "!unzip \\*.zip && rm *.zip"
      ],
      "execution_count": null,
      "outputs": [
        {
          "output_type": "stream",
          "text": [
            "unzip:  cannot find or open *.zip, *.zip.zip or *.zip.ZIP.\n",
            "\n",
            "No zipfiles found.\n"
          ],
          "name": "stdout"
        }
      ]
    },
    {
      "cell_type": "code",
      "metadata": {
        "id": "9sRK1pl7LJli"
      },
      "source": [
        ""
      ],
      "execution_count": null,
      "outputs": []
    }
  ]
}